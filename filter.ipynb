{
 "cells": [
  {
   "cell_type": "code",
   "execution_count": null,
   "id": "6a0015c1-5978-4876-bf42-23dce7392d70",
   "metadata": {},
   "outputs": [],
   "source": [
    "import pandas as pd\n",
    "import transform_files as transform\n",
    "from fastparquet import write\n",
    "import requests\n",
    "import json\n",
    "from pandas.io.json import json_normalize\n",
    "\n",
    "df_happiness = pd.read_csv('happiness.csv', index_col=0, header=0)\n",
    "df_country = pd.read_csv('country.csv', index_col=0, header=0)\n",
    "df_happiness['Happiness Status'] = transform.status_calc(df_happiness)\n",
    "\n",
    "#api fetch\n",
    "api_url = \"http://api.worldbank.org/v2/country?format=json\"\n",
    "# store the response of URL\n",
    "response = requests.get(api_url)\n",
    "print(response.status_code)\n",
    "data = response.json()\n",
    "# display(data)\n",
    "a = json_normalize(data[1],sep=\"-\")\n",
    "# display(list(a))\n",
    "\n",
    "# create dataframe with the json responsejsonon_data \"nested_array_to_expand\"\n",
    "df_json = json_normalize(data[1],sep=\"-\",meta=[\"name\",\"capitalCity\",\"longitude\",\"latitude\"])\n",
    "df_json = df_json[['capitalCity', 'longitude',\"latitude\",\"name\"]]\n",
    "# display(df_json)\n",
    "\n",
    "data = [df_happiness[\"Year\"],df_happiness[\"Country\"], df_country[\"image_url\"],df_country[\"region-code\"],df_country[\"region\"].str.upper()\n",
    "       ,df_happiness['Year'].rank(),df_happiness[\"Happiness Score\"],df_happiness[\"GDP per capita\"],df_happiness[\"Family\"],df_happiness[\"Social support\"],\n",
    "        df_happiness[\"Healthy life expectancy\"],df_happiness[\"Freedom\"],df_happiness[\"Generosity\"],df_happiness[\"Perceptions of corruption\"],\n",
    "        df_happiness[\"Happiness Status\"]]\n",
    "headers = [\"Year\",\"Country\", \"Country_url\",\"Region Code\",\"Region\",\"Overall Rank\",\"Happiness Score\",\"GDP per capita\",\"Family\",\"Social support\",\n",
    "          \"Healthy life expectancy\",\"Freedom to make life choices\",\"Generosity\",\"Perceptions of corruption\",\"Happiness Status\"]\n",
    "df3 = pd.concat(data, axis=1, keys=headers)\n",
    "df3['Region Code'] = df3['Region Code'].fillna(0)\n",
    "df3['Overall Rank'] = df3['Overall Rank'].fillna(0)\n",
    "df3 = df3.astype({\"Region Code\":\"int\",\"Overall Rank\":\"int\"})\n",
    "# join the new dfjson and df3 on name and country and create a new df_final\n",
    "df_final= df_json.merge(df3, how=\"left\", left_on=['name'], right_on=['Country'])\n",
    "df_final.drop(['name'], axis = 1,inplace=True)\n",
    "# display(df_final)\n",
    "#save to new csv and parquet file\n",
    "df_final.to_csv('report_one.csv',index=False)\n",
    "write('report_one.parq', df_final)\n",
    "# display(df3.groupby('Year').count())\n",
    "# display(df3)"
   ]
  },
  {
   "cell_type": "code",
   "execution_count": null,
   "id": "8135704f-5dfd-4a09-9006-99e876274302",
   "metadata": {},
   "outputs": [],
   "source": []
  },
  {
   "cell_type": "code",
   "execution_count": null,
   "id": "842f1c1f-8fd0-43e7-9882-b7eccc298845",
   "metadata": {},
   "outputs": [],
   "source": []
  }
 ],
 "metadata": {
  "kernelspec": {
   "display_name": "Python 3 (ipykernel)",
   "language": "python",
   "name": "python3"
  },
  "language_info": {
   "codemirror_mode": {
    "name": "ipython",
    "version": 3
   },
   "file_extension": ".py",
   "mimetype": "text/x-python",
   "name": "python",
   "nbconvert_exporter": "python",
   "pygments_lexer": "ipython3",
   "version": "3.10.4"
  }
 },
 "nbformat": 4,
 "nbformat_minor": 5
}
