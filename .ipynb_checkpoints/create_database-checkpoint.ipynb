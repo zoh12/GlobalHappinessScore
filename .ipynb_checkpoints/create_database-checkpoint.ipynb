{
 "cells": [
  {
   "cell_type": "code",
   "execution_count": null,
   "id": "29ca6347-08ec-4cf2-bb2b-9a0ab6a51910",
   "metadata": {},
   "outputs": [],
   "source": [
    "import sqlite3\n",
    "import pandas as pd\n",
    "import sqlalchemy \n",
    "\n",
    "#using sqlite db\n",
    "engine = sqlalchemy.create_engine('sqlite:///GlobalHappiness.db')\n",
    "\n",
    "# create happiness table\n",
    "df_happiness = pd.read_csv('happiness.csv', index_col=0, header=0)\n",
    "df_happiness.to_sql('happiness',engine,index = False, if_exists='replace')\n",
    "pd.read_sql('happiness',engine)\n",
    "\n",
    "# create country table\n",
    "df_country = pd.read_csv('country.csv', index_col=0, header=0)\n",
    "df_country.to_sql('country',engine,index = False, if_exists='replace')\n",
    "pd.read_sql('country',engine)\n",
    "\n",
    "# engine.execute(\"SELECT * FROM happiness\").fetchall()\n",
    "# engine.execute(\"SELECT * FROM country\").fetchall()"
   ]
  },
  {
   "cell_type": "code",
   "execution_count": null,
   "id": "2236e685-137a-4963-be9a-ada9120e5337",
   "metadata": {},
   "outputs": [],
   "source": []
  }
 ],
 "metadata": {
  "kernelspec": {
   "display_name": "Python 3 (ipykernel)",
   "language": "python",
   "name": "python3"
  },
  "language_info": {
   "codemirror_mode": {
    "name": "ipython",
    "version": 3
   },
   "file_extension": ".py",
   "mimetype": "text/x-python",
   "name": "python",
   "nbconvert_exporter": "python",
   "pygments_lexer": "ipython3",
   "version": "3.10.4"
  }
 },
 "nbformat": 4,
 "nbformat_minor": 5
}
