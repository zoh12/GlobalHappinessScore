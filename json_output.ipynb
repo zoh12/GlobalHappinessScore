{
 "cells": [
  {
   "cell_type": "code",
   "execution_count": 6,
   "id": "60e82f70-6a45-4c5b-8b87-e3c5f830622e",
   "metadata": {},
   "outputs": [],
   "source": [
    "import pandas as pd\n",
    "\n",
    "df_happiness = pd.read_csv('happiness.csv', index_col=0, header=0)\n",
    "\n",
    "data = [df_happiness[\"Country\"],df_happiness[\"Year\"].rank(method ='max'),df_happiness[\"Year\"].rank(method ='min')\n",
    "        ,df_happiness[\"Happiness Score\"].rank(method ='max'),df_happiness[\"Happiness Score\"].rank(method ='min')]\n",
    "headers = [\"Country\",\"Highest Rank\", \"Lowest Rank\",\"Highest Happiness Score\",\"Lowest Happiness Score\"]\n",
    "df = pd.concat(data, axis=1, keys=headers)\n",
    "#save to new json file\n",
    "df.to_json('report_BCM.json')"
   ]
  },
  {
   "cell_type": "code",
   "execution_count": null,
   "id": "49fbffa7-bf71-4bde-9d8e-bdce8873e639",
   "metadata": {},
   "outputs": [],
   "source": []
  }
 ],
 "metadata": {
  "kernelspec": {
   "display_name": "Python 3 (ipykernel)",
   "language": "python",
   "name": "python3"
  },
  "language_info": {
   "codemirror_mode": {
    "name": "ipython",
    "version": 3
   },
   "file_extension": ".py",
   "mimetype": "text/x-python",
   "name": "python",
   "nbconvert_exporter": "python",
   "pygments_lexer": "ipython3",
   "version": "3.10.4"
  }
 },
 "nbformat": 4,
 "nbformat_minor": 5
}
