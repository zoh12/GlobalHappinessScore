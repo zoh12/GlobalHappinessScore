{
 "cells": [
  {
   "cell_type": "code",
   "execution_count": null,
   "id": "ed1ce193-0d5d-4851-abcc-0cf8bc501b2c",
   "metadata": {},
   "outputs": [],
   "source": [
    "import pandas as pd\n",
    "import numpy as np\n",
    "\n",
    "def rename_cols(df):\n",
    "    df.rename(columns={'Country or region': 'Country', 'Happiness.Score' : 'Happiness Score','Score':'Happiness Score', 'Economy..GDP.per.Capita.':'GDP per capita','Economy (GDP per Capita)':'GDP per capita',\n",
    "                        'Freedom to make life choices':'Freedom','Trust (Government Corruption)':'Perceptions of corruption','Trust..Government.Corruption.':'Perceptions of corruption',\n",
    "                        'Health (Life Expectancy)':'Healthy life expectancy','Health..Life.Expectancy.':'Healthy life expectancy'}, inplace=True)\n",
    "    return df\n",
    "\n",
    "def reorder_cols(df):\n",
    "    csv_file = df.reindex(columns=['Year','Country','Happiness Score','GDP per capita','Social support','Healthy life expectancy','Freedom','Generosity','Family','Perceptions of corruption'])\n",
    "    return csv_file\n",
    "\n",
    "def replace_empty_value(df):\n",
    "    df['Social support'] = df['Social support'].fillna(0)\n",
    "    df['Family'] = df['Family'].fillna(0)\n",
    "    return df\n",
    "\n",
    "def float_to_int(df):\n",
    "    df['region-code'] = df['region-code'].fillna(0)\n",
    "    df['sub-region-code'] = df['sub-region-code'].fillna(0)\n",
    "    df['intermediate-region-code'] = df['intermediate-region-code'].fillna(0)\n",
    "    df['country-code'] = df['country-code'].fillna(0)\n",
    "    df = df.astype({\"country-code\":\"int\",\"region-code\":\"int\",\"sub-region-code\":\"int\",\"intermediate-region-code\":\"int\"})\n",
    "    return df\n",
    "\n",
    "def status_calc(df_happiness):\n",
    "    conditions = [\n",
    "    (df_happiness['Happiness Score'] > 5.6),\n",
    "    (df_happiness['Happiness Score'] >= 2.6) & (df_happiness['Happiness Score'] <= 5.6),\n",
    "    (df_happiness['Happiness Score'] < 2.6)\n",
    "    ]\n",
    "    values = ['Green', 'Amber', 'Red']\n",
    "    happ_values = np.select(conditions, values)\n",
    "    return happ_values"
   ]
  },
  {
   "cell_type": "code",
   "execution_count": null,
   "id": "69adf7b7-44bb-43b0-8ddb-bda8ae081b6c",
   "metadata": {},
   "outputs": [],
   "source": []
  }
 ],
 "metadata": {
  "kernelspec": {
   "display_name": "Python 3 (ipykernel)",
   "language": "python",
   "name": "python3"
  },
  "language_info": {
   "codemirror_mode": {
    "name": "ipython",
    "version": 3
   },
   "file_extension": ".py",
   "mimetype": "text/x-python",
   "name": "python",
   "nbconvert_exporter": "python",
   "pygments_lexer": "ipython3",
   "version": "3.10.4"
  }
 },
 "nbformat": 4,
 "nbformat_minor": 5
}
